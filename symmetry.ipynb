{
 "cells": [
  {
   "cell_type": "code",
   "execution_count": 30,
   "metadata": {},
   "outputs": [],
   "source": [
    "from pymatgen.ext.matproj import MPRester\n",
    "from pymatgen.io.cif import CifWriter\n",
    "from pymatgen.symmetry.analyzer import SpacegroupAnalyzer\n",
    "from pymatgen.core.operations import SymmOp\n",
    "\n",
    "\n",
    "with MPRester(\"wWWfKUMvMZEcIFh8yWJb\") as m:\n",
    "    structure=m.get_structure_by_material_id(\"mp-866056\")\n",
    "    w = CifWriter(structure)\n",
    "    w.write_file('AcN_mp-866056_symmetrized.cif')\n",
    "    \n",
    "\n"
   ]
  },
  {
   "cell_type": "code",
   "execution_count": 51,
   "metadata": {},
   "outputs": [
    {
     "name": "stdout",
     "output_type": "stream",
     "text": [
      "Ac1\n",
      "3.29e-06 1.64e-06 0.98974803\n",
      " \n",
      "Ac1\n",
      "0.33333238 0.66666547 0.48976945\n",
      " \n",
      "N1\n",
      "0.9999972 0.99999649 0.38523947\n",
      " \n",
      "N1\n",
      "0.33333313 0.66666441 0.88524305\n",
      " \n"
     ]
    }
   ],
   "source": [
    "#obtention des coordonnees reduites\n",
    "for site in structure.sites:\n",
    "    print(site.species)\n",
    "    print(site.a, site.b, site.c)\n",
    "    print(' ')"
   ]
  },
  {
   "cell_type": "code",
   "execution_count": 57,
   "metadata": {},
   "outputs": [
    {
     "name": "stdout",
     "output_type": "stream",
     "text": [
      "[ 0.33333238  0.16666547 -0.01023055]\n"
     ]
    }
   ],
   "source": [
    "#Translation appliquée sur le deuxième Ac\n",
    "ope1=SymmOp.from_xyz_string('x,y-1/2,z-1/2')\n",
    "trans=ope1.operate((0.33333238,0.66666547,0.48976945))\n",
    "print(trans)"
   ]
  },
  {
   "cell_type": "code",
   "execution_count": 58,
   "metadata": {},
   "outputs": [
    {
     "name": "stdout",
     "output_type": "stream",
     "text": [
      "[-0.33333313  0.33333128  1.38524305]\n"
     ]
    }
   ],
   "source": [
    "#c-glide plane appliquée sur le deuxieme N\n",
    "ope4=SymmOp.from_xyz_string('-x,-x+y,z+1/2')\n",
    "operation4=ope4.operate((0.33333313,0.66666441,0.88524305))\n",
    "print(operation4)"
   ]
  },
  {
   "cell_type": "code",
   "execution_count": 59,
   "metadata": {},
   "outputs": [
    {
     "name": "stdout",
     "output_type": "stream",
     "text": [
      "[1.65000000e-06 3.29000000e-06 1.48974803e+00]\n"
     ]
    }
   ],
   "source": [
    "#6-fold screw axis appliqué sur le premier Ac\n",
    "ope5=SymmOp.from_xyz_string('x-y,x,z+1/2')\n",
    "operation5=ope5.operate((3.29e-06,1.64e-06,0.98974803))\n",
    "print(operation5)"
   ]
  },
  {
   "cell_type": "code",
   "execution_count": null,
   "metadata": {},
   "outputs": [],
   "source": []
  }
 ],
 "metadata": {
  "kernelspec": {
   "display_name": "Python 3",
   "language": "python",
   "name": "python3"
  },
  "language_info": {
   "codemirror_mode": {
    "name": "ipython",
    "version": 3
   },
   "file_extension": ".py",
   "mimetype": "text/x-python",
   "name": "python",
   "nbconvert_exporter": "python",
   "pygments_lexer": "ipython3",
   "version": "3.6.8"
  }
 },
 "nbformat": 4,
 "nbformat_minor": 2
}
