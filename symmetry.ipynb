{
 "cells": [
  {
   "cell_type": "code",
   "execution_count": 71,
   "metadata": {},
   "outputs": [],
   "source": [
    "from pymatgen.ext.matproj import MPRester\n",
    "from pymatgen.io.cif import CifWriter\n",
    "from pymatgen.symmetry.analyzer import SpacegroupAnalyzer\n",
    "from pymatgen.core.operations import SymmOp\n",
    "from IPython.display import Image\n",
    "\n",
    "\n",
    "with MPRester(\"wWWfKUMvMZEcIFh8yWJb\") as m:\n",
    "    structure=m.get_structure_by_material_id(\"mp-866056\")\n",
    "    w = CifWriter(structure)\n",
    "    w.write_file('AcN_mp-866056_symmetrized.cif')\n",
    "    \n",
    "\n"
   ]
  },
  {
   "cell_type": "code",
   "execution_count": 72,
   "metadata": {},
   "outputs": [
    {
     "name": "stdout",
     "output_type": "stream",
     "text": [
      "Ac1\n",
      "3.29e-06 1.64e-06 0.98974803\n",
      " \n",
      "Ac1\n",
      "0.33333238 0.66666547 0.48976945\n",
      " \n",
      "N1\n",
      "0.9999972 0.99999649 0.38523947\n",
      " \n",
      "N1\n",
      "0.33333313 0.66666441 0.88524305\n",
      " \n"
     ]
    }
   ],
   "source": [
    "#obtention des coordonnees reduites\n",
    "for site in structure.sites:\n",
    "    print(site.species)\n",
    "    print(site.a, site.b, site.c)\n",
    "    print(' ')"
   ]
  },
  {
   "cell_type": "code",
   "execution_count": 73,
   "metadata": {},
   "outputs": [
    {
     "name": "stdout",
     "output_type": "stream",
     "text": [
      "[ 0.33333238  0.16666547 -0.01023055]\n"
     ]
    }
   ],
   "source": [
    "#Translation appliquée sur le deuxième Ac\n",
    "ope1=SymmOp.from_xyz_string('x,y-1/2,z-1/2')\n",
    "trans=ope1.operate((0.33333238,0.66666547,0.48976945))\n",
    "print(trans)"
   ]
  },
  {
   "cell_type": "markdown",
   "metadata": {},
   "source": [
    "![alt_text](https://user-images.githubusercontent.com/60969875/76846328-a134a900-6840-11ea-961c-31b5647b6428.jpeg)"
   ]
  },
  {
   "cell_type": "code",
   "execution_count": 74,
   "metadata": {},
   "outputs": [
    {
     "name": "stdout",
     "output_type": "stream",
     "text": [
      "[-0.33333313  0.33333128  1.38524305]\n"
     ]
    }
   ],
   "source": [
    "#c-glide plane appliquée sur le deuxieme N\n",
    "ope2=SymmOp.from_xyz_string('-x,-x+y,z+1/2')\n",
    "operation2=ope2.operate((0.33333313,0.66666441,0.88524305))\n",
    "print(operation2)"
   ]
  },
  {
   "cell_type": "markdown",
   "metadata": {},
   "source": [
    "![alt_text](https://user-images.githubusercontent.com/60969875/76846581-02f51300-6841-11ea-9873-f1423d15e633.jpeg)"
   ]
  },
  {
   "cell_type": "code",
   "execution_count": 75,
   "metadata": {},
   "outputs": [
    {
     "name": "stdout",
     "output_type": "stream",
     "text": [
      "[1.65000000e-06 3.29000000e-06 1.48974803e+00]\n"
     ]
    }
   ],
   "source": [
    "#6-fold screw axis appliqué sur le premier Ac\n",
    "ope3=SymmOp.from_xyz_string('x-y,x,z+1/2')\n",
    "operation3=ope3.operate((3.29e-06,1.64e-06,0.98974803))\n",
    "print(operation3)"
   ]
  },
  {
   "cell_type": "markdown",
   "metadata": {},
   "source": [
    "![alt_text](https://user-images.githubusercontent.com/60969875/76846664-261fc280-6841-11ea-869f-75b71ad9868e.jpeg)"
   ]
  },
  {
   "cell_type": "code",
   "execution_count": null,
   "metadata": {},
   "outputs": [],
   "source": []
  }
 ],
 "metadata": {
  "kernelspec": {
   "display_name": "Python 3",
   "language": "python",
   "name": "python3"
  },
  "language_info": {
   "codemirror_mode": {
    "name": "ipython",
    "version": 3
   },
   "file_extension": ".py",
   "mimetype": "text/x-python",
   "name": "python",
   "nbconvert_exporter": "python",
   "pygments_lexer": "ipython3",
   "version": "3.6.8"
  }
 },
 "nbformat": 4,
 "nbformat_minor": 2
}
