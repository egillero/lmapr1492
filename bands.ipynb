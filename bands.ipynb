{
 "cells": [
  {
   "cell_type": "code",
   "execution_count": 34,
   "metadata": {},
   "outputs": [],
   "source": [
    "from pymatgen.ext.matproj import MPRester\n",
    "from pymatgen.io.cif import CifWriter\n",
    "\n",
    "with MPRester(\"wWWfKUMvMZEcIFh8yWJb\") as m:\n",
    "    structure=m.get_structure_by_material_id(\"mp-866056\")\n",
    "    w = CifWriter(structure)\n",
    "    w.write_file('AcN_mp-866056_symmetrized.cif')\n",
    "    bs=m.get_bandstructure_by_material_id(\"mp-866056\")\n"
   ]
  },
  {
   "cell_type": "code",
   "execution_count": 35,
   "metadata": {},
   "outputs": [
    {
     "name": "stdout",
     "output_type": "stream",
     "text": [
      "{'direct': False, 'energy': 0.0517000000000003, 'transition': 'K-\\\\Gamma'}\n",
      "--------------\n",
      "La bande interdite est indirecte\n",
      "A une énergie de 0.0517000000000003 eV\n",
      "transition: K et Gamma\n"
     ]
    }
   ],
   "source": [
    "#point 1\n",
    "bg=bs.get_band_gap()\n",
    "print(bg)\n",
    "print('--------------')\n",
    "print('La bande interdite est indirecte')\n",
    "print('A une énergie de 0.0517000000000003 eV')\n",
    "print('transition: K et Gamma')"
   ]
  },
  {
   "cell_type": "code",
   "execution_count": 36,
   "metadata": {},
   "outputs": [
    {
     "name": "stdout",
     "output_type": "stream",
     "text": [
      "{'band_index': defaultdict(<class 'list'>, {<Spin.up: 1>: [16]}), 'kpoint_index': [0, 237, 238], 'kpoint': <pymatgen.electronic_structure.bandstructure.Kpoint object at 0x7f9860390c18>, 'energy': 5.2992, 'projections': {<Spin.up: 1>: array([[0.0523, 0.0523, 0.0383, 0.0383],\n",
      "       [0.    , 0.    , 0.    , 0.    ],\n",
      "       [0.    , 0.    , 0.0011, 0.0011],\n",
      "       [0.    , 0.    , 0.    , 0.    ],\n",
      "       [0.    , 0.    , 0.    , 0.    ],\n",
      "       [0.    , 0.    , 0.    , 0.    ],\n",
      "       [0.0006, 0.0006, 0.    , 0.    ],\n",
      "       [0.    , 0.    , 0.    , 0.    ],\n",
      "       [0.    , 0.    , 0.    , 0.    ],\n",
      "       [0.0191, 0.0191, 0.    , 0.    ],\n",
      "       [0.    , 0.    , 0.    , 0.    ],\n",
      "       [0.    , 0.    , 0.    , 0.    ],\n",
      "       [0.0111, 0.0111, 0.    , 0.    ],\n",
      "       [0.    , 0.    , 0.    , 0.    ],\n",
      "       [0.    , 0.    , 0.    , 0.    ],\n",
      "       [0.    , 0.    , 0.    , 0.    ]])}}\n",
      "{'band_index': defaultdict(<class 'list'>, {<Spin.up: 1>: [15]}), 'kpoint_index': [137, 138, 578], 'kpoint': <pymatgen.electronic_structure.bandstructure.Kpoint object at 0x7f9822a3bd30>, 'energy': 5.2475, 'projections': {<Spin.up: 1>: array([[0.00e+00, 0.00e+00, 0.00e+00, 0.00e+00],\n",
      "       [4.00e-02, 4.00e-02, 1.06e-01, 1.06e-01],\n",
      "       [0.00e+00, 0.00e+00, 0.00e+00, 0.00e+00],\n",
      "       [4.00e-02, 4.00e-02, 1.06e-01, 1.06e-01],\n",
      "       [0.00e+00, 0.00e+00, 0.00e+00, 0.00e+00],\n",
      "       [3.50e-03, 3.50e-03, 0.00e+00, 0.00e+00],\n",
      "       [0.00e+00, 0.00e+00, 0.00e+00, 0.00e+00],\n",
      "       [3.50e-03, 3.50e-03, 0.00e+00, 0.00e+00],\n",
      "       [0.00e+00, 0.00e+00, 0.00e+00, 0.00e+00],\n",
      "       [0.00e+00, 0.00e+00, 0.00e+00, 0.00e+00],\n",
      "       [6.00e-04, 6.00e-04, 0.00e+00, 0.00e+00],\n",
      "       [1.00e-04, 1.00e-04, 0.00e+00, 0.00e+00],\n",
      "       [0.00e+00, 0.00e+00, 0.00e+00, 0.00e+00],\n",
      "       [1.00e-04, 1.00e-04, 0.00e+00, 0.00e+00],\n",
      "       [6.00e-04, 6.00e-04, 0.00e+00, 0.00e+00],\n",
      "       [0.00e+00, 0.00e+00, 0.00e+00, 0.00e+00]])}}\n"
     ]
    }
   ],
   "source": [
    "#point 2\n",
    "cbm=bs.get_cbm() #première bande de conduction\n",
    "vbm=bs.get_vbm() #dernière bande de valence\n",
    "print(cbm)\n",
    "print(vbm)"
   ]
  },
  {
   "cell_type": "code",
   "execution_count": null,
   "metadata": {},
   "outputs": [],
   "source": []
  },
  {
   "cell_type": "code",
   "execution_count": null,
   "metadata": {},
   "outputs": [],
   "source": []
  }
 ],
 "metadata": {
  "kernelspec": {
   "display_name": "Python 3",
   "language": "python",
   "name": "python3"
  },
  "language_info": {
   "codemirror_mode": {
    "name": "ipython",
    "version": 3
   },
   "file_extension": ".py",
   "mimetype": "text/x-python",
   "name": "python",
   "nbconvert_exporter": "python",
   "pygments_lexer": "ipython3",
   "version": "3.6.8"
  }
 },
 "nbformat": 4,
 "nbformat_minor": 2
}
