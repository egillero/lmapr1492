{
 "cells": [
  {
   "cell_type": "code",
   "execution_count": 32,
   "metadata": {},
   "outputs": [
    {
     "name": "stdout",
     "output_type": "stream",
     "text": [
      "systeme cristallin:\n",
      "hexagonal\n",
      "groupe ponctuel:\n",
      "6mm\n",
      "type de maille:\n",
      "hexagonal\n",
      "vecteurs de bases dans le reseau direct:\n",
      "2.127670 -3.685195 -0.000007\n",
      "2.127673 3.685197 0.000009\n",
      "0.000003 0.000013 6.446321\n",
      "vecteurs de bases dans le reseau réciproque:\n",
      "1.476540 -0.852490 0.000001\n",
      "1.476540 0.852489 -0.000003\n",
      "-0.000001 -0.000002 0.974693\n"
     ]
    }
   ],
   "source": [
    "from pymatgen.ext.matproj import MPRester\n",
    "from pymatgen.io.cif import CifWriter\n",
    "from pymatgen.symmetry.analyzer import SpacegroupAnalyzer\n",
    "\n",
    "\n",
    "with MPRester(\"wWWfKUMvMZEcIFh8yWJb\") as m:\n",
    "    structure=m.get_structure_by_material_id(\"mp-866056\")\n",
    "    w=CifWriter(structure)\n",
    "    w.write_file('AcN_mp-866056_symmetrized.cif')\n",
    "spaceA = SpacegroupAnalyzer(structure)\n",
    "\n",
    "#obtention du systeme cristallin\n",
    "systcrist = spaceA.get_crystal_system()\n",
    "print('systeme cristallin:')\n",
    "print(systcrist)\n",
    "\n",
    "#obtention du groupe ponctuel\n",
    "grponct = spaceA.get_point_group_symbol()\n",
    "print('groupe ponctuel:')\n",
    "print(grponct)\n",
    "\n",
    "#obtention du type de maille\n",
    "maille = spaceA.get_lattice_type()\n",
    "print('type de maille:')\n",
    "print(maille)\n",
    "\n",
    "#obtention des vecteurs de bases dans le reseau direct\n",
    "vectd=structure.lattice\n",
    "print('vecteurs de bases dans le reseau direct:')\n",
    "print(vectd)\n",
    "\n",
    "#obtention des vecteurs de bases dans le reseau réciproque\n",
    "vectr=structure.lattice.reciprocal_lattice\n",
    "print('vecteurs de bases dans le reseau réciproque:')\n",
    "print(vectr)\n",
    "    \n",
    "\n",
    "\n",
    "\n",
    "\n",
    "\n"
   ]
  },
  {
   "cell_type": "code",
   "execution_count": null,
   "metadata": {},
   "outputs": [],
   "source": []
  },
  {
   "cell_type": "code",
   "execution_count": null,
   "metadata": {},
   "outputs": [],
   "source": [
    "\n",
    "\n"
   ]
  },
  {
   "cell_type": "code",
   "execution_count": null,
   "metadata": {},
   "outputs": [],
   "source": []
  }
 ],
 "metadata": {
  "kernelspec": {
   "display_name": "Python 3",
   "language": "python",
   "name": "python3"
  },
  "language_info": {
   "codemirror_mode": {
    "name": "ipython",
    "version": 3
   },
   "file_extension": ".py",
   "mimetype": "text/x-python",
   "name": "python",
   "nbconvert_exporter": "python",
   "pygments_lexer": "ipython3",
   "version": "3.6.8"
  }
 },
 "nbformat": 4,
 "nbformat_minor": 2
}
